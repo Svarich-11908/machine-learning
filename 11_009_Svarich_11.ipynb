{
  "nbformat": 4,
  "nbformat_minor": 0,
  "metadata": {
    "colab": {
      "provenance": [],
      "authorship_tag": "ABX9TyMPUEe/qMXQSVXKJfBnNl/F",
      "include_colab_link": true
    },
    "kernelspec": {
      "name": "python3",
      "display_name": "Python 3"
    },
    "language_info": {
      "name": "python"
    }
  },
  "cells": [
    {
      "cell_type": "markdown",
      "metadata": {
        "id": "view-in-github",
        "colab_type": "text"
      },
      "source": [
        "<a href=\"https://colab.research.google.com/github/Svarich-11908/machine-learning/blob/main/11_009_Svarich_11.ipynb\" target=\"_parent\"><img src=\"https://colab.research.google.com/assets/colab-badge.svg\" alt=\"Open In Colab\"/></a>"
      ]
    },
    {
      "cell_type": "code",
      "execution_count": 29,
      "metadata": {
        "id": "dqlHSWm__7SV"
      },
      "outputs": [],
      "source": [
        "from tensorflow.keras.datasets import mnist #Библиотека с базой Mnist\n",
        "from tensorflow.keras.models import Sequential # Подлючаем класс создания модели Sequential\n",
        "from tensorflow.keras.layers import Dense # Подключаем класс Dense - полносвязный слой\n",
        "from tensorflow.keras.optimizers import Adam # Подключаем оптимизатор Adam\n",
        "from tensorflow.keras import utils #Утилиты для to_categorical\n",
        "from tensorflow.keras.preprocessing import image #Для отрисовки изображения\n",
        "from tensorflow import keras\n",
        "import numpy as np # Подключаем библиотеку numpy\n",
        "import pylab # Модуль для построения графиков\n",
        "from mpl_toolkits.mplot3d import Axes3D # Модуль для трехмерной графики\n",
        "from google.colab import files #Для загрузки своей картинки\n",
        "import matplotlib.pyplot as plt #Отрисовка изображений\n",
        "from PIL import Image #Отрисовка изображений\n",
        "#Отрисовывать изображения в ноутбуке, а не в консоль или файл\n",
        "%matplotlib inline"
      ]
    },
    {
      "cell_type": "code",
      "source": [
        "from google.colab import files\n",
        "\n",
        "uploaded = files.upload()"
      ],
      "metadata": {
        "colab": {
          "base_uri": "https://localhost:8080/",
          "height": 73
        },
        "id": "Qbh5EMAKASFb",
        "outputId": "4f295e57-9c6e-43ba-f62c-8081ed6c63aa"
      },
      "execution_count": 10,
      "outputs": [
        {
          "output_type": "display_data",
          "data": {
            "text/plain": [
              "<IPython.core.display.HTML object>"
            ],
            "text/html": [
              "\n",
              "     <input type=\"file\" id=\"files-892f9459-52ed-4d67-8b7a-7b7a8a651dfd\" name=\"files[]\" multiple disabled\n",
              "        style=\"border:none\" />\n",
              "     <output id=\"result-892f9459-52ed-4d67-8b7a-7b7a8a651dfd\">\n",
              "      Upload widget is only available when the cell has been executed in the\n",
              "      current browser session. Please rerun this cell to enable.\n",
              "      </output>\n",
              "      <script>// Copyright 2017 Google LLC\n",
              "//\n",
              "// Licensed under the Apache License, Version 2.0 (the \"License\");\n",
              "// you may not use this file except in compliance with the License.\n",
              "// You may obtain a copy of the License at\n",
              "//\n",
              "//      http://www.apache.org/licenses/LICENSE-2.0\n",
              "//\n",
              "// Unless required by applicable law or agreed to in writing, software\n",
              "// distributed under the License is distributed on an \"AS IS\" BASIS,\n",
              "// WITHOUT WARRANTIES OR CONDITIONS OF ANY KIND, either express or implied.\n",
              "// See the License for the specific language governing permissions and\n",
              "// limitations under the License.\n",
              "\n",
              "/**\n",
              " * @fileoverview Helpers for google.colab Python module.\n",
              " */\n",
              "(function(scope) {\n",
              "function span(text, styleAttributes = {}) {\n",
              "  const element = document.createElement('span');\n",
              "  element.textContent = text;\n",
              "  for (const key of Object.keys(styleAttributes)) {\n",
              "    element.style[key] = styleAttributes[key];\n",
              "  }\n",
              "  return element;\n",
              "}\n",
              "\n",
              "// Max number of bytes which will be uploaded at a time.\n",
              "const MAX_PAYLOAD_SIZE = 100 * 1024;\n",
              "\n",
              "function _uploadFiles(inputId, outputId) {\n",
              "  const steps = uploadFilesStep(inputId, outputId);\n",
              "  const outputElement = document.getElementById(outputId);\n",
              "  // Cache steps on the outputElement to make it available for the next call\n",
              "  // to uploadFilesContinue from Python.\n",
              "  outputElement.steps = steps;\n",
              "\n",
              "  return _uploadFilesContinue(outputId);\n",
              "}\n",
              "\n",
              "// This is roughly an async generator (not supported in the browser yet),\n",
              "// where there are multiple asynchronous steps and the Python side is going\n",
              "// to poll for completion of each step.\n",
              "// This uses a Promise to block the python side on completion of each step,\n",
              "// then passes the result of the previous step as the input to the next step.\n",
              "function _uploadFilesContinue(outputId) {\n",
              "  const outputElement = document.getElementById(outputId);\n",
              "  const steps = outputElement.steps;\n",
              "\n",
              "  const next = steps.next(outputElement.lastPromiseValue);\n",
              "  return Promise.resolve(next.value.promise).then((value) => {\n",
              "    // Cache the last promise value to make it available to the next\n",
              "    // step of the generator.\n",
              "    outputElement.lastPromiseValue = value;\n",
              "    return next.value.response;\n",
              "  });\n",
              "}\n",
              "\n",
              "/**\n",
              " * Generator function which is called between each async step of the upload\n",
              " * process.\n",
              " * @param {string} inputId Element ID of the input file picker element.\n",
              " * @param {string} outputId Element ID of the output display.\n",
              " * @return {!Iterable<!Object>} Iterable of next steps.\n",
              " */\n",
              "function* uploadFilesStep(inputId, outputId) {\n",
              "  const inputElement = document.getElementById(inputId);\n",
              "  inputElement.disabled = false;\n",
              "\n",
              "  const outputElement = document.getElementById(outputId);\n",
              "  outputElement.innerHTML = '';\n",
              "\n",
              "  const pickedPromise = new Promise((resolve) => {\n",
              "    inputElement.addEventListener('change', (e) => {\n",
              "      resolve(e.target.files);\n",
              "    });\n",
              "  });\n",
              "\n",
              "  const cancel = document.createElement('button');\n",
              "  inputElement.parentElement.appendChild(cancel);\n",
              "  cancel.textContent = 'Cancel upload';\n",
              "  const cancelPromise = new Promise((resolve) => {\n",
              "    cancel.onclick = () => {\n",
              "      resolve(null);\n",
              "    };\n",
              "  });\n",
              "\n",
              "  // Wait for the user to pick the files.\n",
              "  const files = yield {\n",
              "    promise: Promise.race([pickedPromise, cancelPromise]),\n",
              "    response: {\n",
              "      action: 'starting',\n",
              "    }\n",
              "  };\n",
              "\n",
              "  cancel.remove();\n",
              "\n",
              "  // Disable the input element since further picks are not allowed.\n",
              "  inputElement.disabled = true;\n",
              "\n",
              "  if (!files) {\n",
              "    return {\n",
              "      response: {\n",
              "        action: 'complete',\n",
              "      }\n",
              "    };\n",
              "  }\n",
              "\n",
              "  for (const file of files) {\n",
              "    const li = document.createElement('li');\n",
              "    li.append(span(file.name, {fontWeight: 'bold'}));\n",
              "    li.append(span(\n",
              "        `(${file.type || 'n/a'}) - ${file.size} bytes, ` +\n",
              "        `last modified: ${\n",
              "            file.lastModifiedDate ? file.lastModifiedDate.toLocaleDateString() :\n",
              "                                    'n/a'} - `));\n",
              "    const percent = span('0% done');\n",
              "    li.appendChild(percent);\n",
              "\n",
              "    outputElement.appendChild(li);\n",
              "\n",
              "    const fileDataPromise = new Promise((resolve) => {\n",
              "      const reader = new FileReader();\n",
              "      reader.onload = (e) => {\n",
              "        resolve(e.target.result);\n",
              "      };\n",
              "      reader.readAsArrayBuffer(file);\n",
              "    });\n",
              "    // Wait for the data to be ready.\n",
              "    let fileData = yield {\n",
              "      promise: fileDataPromise,\n",
              "      response: {\n",
              "        action: 'continue',\n",
              "      }\n",
              "    };\n",
              "\n",
              "    // Use a chunked sending to avoid message size limits. See b/62115660.\n",
              "    let position = 0;\n",
              "    do {\n",
              "      const length = Math.min(fileData.byteLength - position, MAX_PAYLOAD_SIZE);\n",
              "      const chunk = new Uint8Array(fileData, position, length);\n",
              "      position += length;\n",
              "\n",
              "      const base64 = btoa(String.fromCharCode.apply(null, chunk));\n",
              "      yield {\n",
              "        response: {\n",
              "          action: 'append',\n",
              "          file: file.name,\n",
              "          data: base64,\n",
              "        },\n",
              "      };\n",
              "\n",
              "      let percentDone = fileData.byteLength === 0 ?\n",
              "          100 :\n",
              "          Math.round((position / fileData.byteLength) * 100);\n",
              "      percent.textContent = `${percentDone}% done`;\n",
              "\n",
              "    } while (position < fileData.byteLength);\n",
              "  }\n",
              "\n",
              "  // All done.\n",
              "  yield {\n",
              "    response: {\n",
              "      action: 'complete',\n",
              "    }\n",
              "  };\n",
              "}\n",
              "\n",
              "scope.google = scope.google || {};\n",
              "scope.google.colab = scope.google.colab || {};\n",
              "scope.google.colab._files = {\n",
              "  _uploadFiles,\n",
              "  _uploadFilesContinue,\n",
              "};\n",
              "})(self);\n",
              "</script> "
            ]
          },
          "metadata": {}
        },
        {
          "output_type": "stream",
          "name": "stdout",
          "text": [
            "Saving cars_new.csv to cars_new.csv\n"
          ]
        }
      ]
    },
    {
      "cell_type": "code",
      "source": [
        "cars = pd.read_csv('cars_new.csv', sep=',')\n",
        "cars[:5]"
      ],
      "metadata": {
        "colab": {
          "base_uri": "https://localhost:8080/",
          "height": 206
        },
        "id": "5y-vQoPtCGz8",
        "outputId": "89e7a115-37ff-4387-ceea-eae715f5eda3"
      },
      "execution_count": 11,
      "outputs": [
        {
          "output_type": "execute_result",
          "data": {
            "text/plain": [
              "        mark                               model   price  year  mileage  \\\n",
              "0        kia                              cerato  996000  2018    28000   \n",
              "1     daewoo  nexia 1 поколение [2-й рестайлинг]  140200  2012    60500   \n",
              "2     suzuki      jimny 3 поколение [рестайлинг]  750000  2011    29000   \n",
              "3        bmw              x1 18 e84 [рестайлинг]  970000  2014    49500   \n",
              "4  chevrolet                 lacetti 1 поколение  205000  2007   151445   \n",
              "\n",
              "          body       kpp    fuel  volume  power  \n",
              "0        седан   автомат  бензин     2.0  150.0  \n",
              "1        седан  механика  бензин     1.5   80.0  \n",
              "2  внедорожник   автомат  бензин     1.3   85.0  \n",
              "3    кроссовер   автомат  бензин     2.0  150.0  \n",
              "4        седан  механика  бензин     1.4   95.0  "
            ],
            "text/html": [
              "\n",
              "  <div id=\"df-3cb2ea32-2333-4cd4-9a9c-4c18a5e67bc8\" class=\"colab-df-container\">\n",
              "    <div>\n",
              "<style scoped>\n",
              "    .dataframe tbody tr th:only-of-type {\n",
              "        vertical-align: middle;\n",
              "    }\n",
              "\n",
              "    .dataframe tbody tr th {\n",
              "        vertical-align: top;\n",
              "    }\n",
              "\n",
              "    .dataframe thead th {\n",
              "        text-align: right;\n",
              "    }\n",
              "</style>\n",
              "<table border=\"1\" class=\"dataframe\">\n",
              "  <thead>\n",
              "    <tr style=\"text-align: right;\">\n",
              "      <th></th>\n",
              "      <th>mark</th>\n",
              "      <th>model</th>\n",
              "      <th>price</th>\n",
              "      <th>year</th>\n",
              "      <th>mileage</th>\n",
              "      <th>body</th>\n",
              "      <th>kpp</th>\n",
              "      <th>fuel</th>\n",
              "      <th>volume</th>\n",
              "      <th>power</th>\n",
              "    </tr>\n",
              "  </thead>\n",
              "  <tbody>\n",
              "    <tr>\n",
              "      <th>0</th>\n",
              "      <td>kia</td>\n",
              "      <td>cerato</td>\n",
              "      <td>996000</td>\n",
              "      <td>2018</td>\n",
              "      <td>28000</td>\n",
              "      <td>седан</td>\n",
              "      <td>автомат</td>\n",
              "      <td>бензин</td>\n",
              "      <td>2.0</td>\n",
              "      <td>150.0</td>\n",
              "    </tr>\n",
              "    <tr>\n",
              "      <th>1</th>\n",
              "      <td>daewoo</td>\n",
              "      <td>nexia 1 поколение [2-й рестайлинг]</td>\n",
              "      <td>140200</td>\n",
              "      <td>2012</td>\n",
              "      <td>60500</td>\n",
              "      <td>седан</td>\n",
              "      <td>механика</td>\n",
              "      <td>бензин</td>\n",
              "      <td>1.5</td>\n",
              "      <td>80.0</td>\n",
              "    </tr>\n",
              "    <tr>\n",
              "      <th>2</th>\n",
              "      <td>suzuki</td>\n",
              "      <td>jimny 3 поколение [рестайлинг]</td>\n",
              "      <td>750000</td>\n",
              "      <td>2011</td>\n",
              "      <td>29000</td>\n",
              "      <td>внедорожник</td>\n",
              "      <td>автомат</td>\n",
              "      <td>бензин</td>\n",
              "      <td>1.3</td>\n",
              "      <td>85.0</td>\n",
              "    </tr>\n",
              "    <tr>\n",
              "      <th>3</th>\n",
              "      <td>bmw</td>\n",
              "      <td>x1 18 e84 [рестайлинг]</td>\n",
              "      <td>970000</td>\n",
              "      <td>2014</td>\n",
              "      <td>49500</td>\n",
              "      <td>кроссовер</td>\n",
              "      <td>автомат</td>\n",
              "      <td>бензин</td>\n",
              "      <td>2.0</td>\n",
              "      <td>150.0</td>\n",
              "    </tr>\n",
              "    <tr>\n",
              "      <th>4</th>\n",
              "      <td>chevrolet</td>\n",
              "      <td>lacetti 1 поколение</td>\n",
              "      <td>205000</td>\n",
              "      <td>2007</td>\n",
              "      <td>151445</td>\n",
              "      <td>седан</td>\n",
              "      <td>механика</td>\n",
              "      <td>бензин</td>\n",
              "      <td>1.4</td>\n",
              "      <td>95.0</td>\n",
              "    </tr>\n",
              "  </tbody>\n",
              "</table>\n",
              "</div>\n",
              "    <div class=\"colab-df-buttons\">\n",
              "\n",
              "  <div class=\"colab-df-container\">\n",
              "    <button class=\"colab-df-convert\" onclick=\"convertToInteractive('df-3cb2ea32-2333-4cd4-9a9c-4c18a5e67bc8')\"\n",
              "            title=\"Convert this dataframe to an interactive table.\"\n",
              "            style=\"display:none;\">\n",
              "\n",
              "  <svg xmlns=\"http://www.w3.org/2000/svg\" height=\"24px\" viewBox=\"0 -960 960 960\">\n",
              "    <path d=\"M120-120v-720h720v720H120Zm60-500h600v-160H180v160Zm220 220h160v-160H400v160Zm0 220h160v-160H400v160ZM180-400h160v-160H180v160Zm440 0h160v-160H620v160ZM180-180h160v-160H180v160Zm440 0h160v-160H620v160Z\"/>\n",
              "  </svg>\n",
              "    </button>\n",
              "\n",
              "  <style>\n",
              "    .colab-df-container {\n",
              "      display:flex;\n",
              "      gap: 12px;\n",
              "    }\n",
              "\n",
              "    .colab-df-convert {\n",
              "      background-color: #E8F0FE;\n",
              "      border: none;\n",
              "      border-radius: 50%;\n",
              "      cursor: pointer;\n",
              "      display: none;\n",
              "      fill: #1967D2;\n",
              "      height: 32px;\n",
              "      padding: 0 0 0 0;\n",
              "      width: 32px;\n",
              "    }\n",
              "\n",
              "    .colab-df-convert:hover {\n",
              "      background-color: #E2EBFA;\n",
              "      box-shadow: 0px 1px 2px rgba(60, 64, 67, 0.3), 0px 1px 3px 1px rgba(60, 64, 67, 0.15);\n",
              "      fill: #174EA6;\n",
              "    }\n",
              "\n",
              "    .colab-df-buttons div {\n",
              "      margin-bottom: 4px;\n",
              "    }\n",
              "\n",
              "    [theme=dark] .colab-df-convert {\n",
              "      background-color: #3B4455;\n",
              "      fill: #D2E3FC;\n",
              "    }\n",
              "\n",
              "    [theme=dark] .colab-df-convert:hover {\n",
              "      background-color: #434B5C;\n",
              "      box-shadow: 0px 1px 3px 1px rgba(0, 0, 0, 0.15);\n",
              "      filter: drop-shadow(0px 1px 2px rgba(0, 0, 0, 0.3));\n",
              "      fill: #FFFFFF;\n",
              "    }\n",
              "  </style>\n",
              "\n",
              "    <script>\n",
              "      const buttonEl =\n",
              "        document.querySelector('#df-3cb2ea32-2333-4cd4-9a9c-4c18a5e67bc8 button.colab-df-convert');\n",
              "      buttonEl.style.display =\n",
              "        google.colab.kernel.accessAllowed ? 'block' : 'none';\n",
              "\n",
              "      async function convertToInteractive(key) {\n",
              "        const element = document.querySelector('#df-3cb2ea32-2333-4cd4-9a9c-4c18a5e67bc8');\n",
              "        const dataTable =\n",
              "          await google.colab.kernel.invokeFunction('convertToInteractive',\n",
              "                                                    [key], {});\n",
              "        if (!dataTable) return;\n",
              "\n",
              "        const docLinkHtml = 'Like what you see? Visit the ' +\n",
              "          '<a target=\"_blank\" href=https://colab.research.google.com/notebooks/data_table.ipynb>data table notebook</a>'\n",
              "          + ' to learn more about interactive tables.';\n",
              "        element.innerHTML = '';\n",
              "        dataTable['output_type'] = 'display_data';\n",
              "        await google.colab.output.renderOutput(dataTable, element);\n",
              "        const docLink = document.createElement('div');\n",
              "        docLink.innerHTML = docLinkHtml;\n",
              "        element.appendChild(docLink);\n",
              "      }\n",
              "    </script>\n",
              "  </div>\n",
              "\n",
              "\n",
              "<div id=\"df-9f6735e9-0b0f-4111-8cb9-ea0536aef401\">\n",
              "  <button class=\"colab-df-quickchart\" onclick=\"quickchart('df-9f6735e9-0b0f-4111-8cb9-ea0536aef401')\"\n",
              "            title=\"Suggest charts\"\n",
              "            style=\"display:none;\">\n",
              "\n",
              "<svg xmlns=\"http://www.w3.org/2000/svg\" height=\"24px\"viewBox=\"0 0 24 24\"\n",
              "     width=\"24px\">\n",
              "    <g>\n",
              "        <path d=\"M19 3H5c-1.1 0-2 .9-2 2v14c0 1.1.9 2 2 2h14c1.1 0 2-.9 2-2V5c0-1.1-.9-2-2-2zM9 17H7v-7h2v7zm4 0h-2V7h2v10zm4 0h-2v-4h2v4z\"/>\n",
              "    </g>\n",
              "</svg>\n",
              "  </button>\n",
              "\n",
              "<style>\n",
              "  .colab-df-quickchart {\n",
              "      --bg-color: #E8F0FE;\n",
              "      --fill-color: #1967D2;\n",
              "      --hover-bg-color: #E2EBFA;\n",
              "      --hover-fill-color: #174EA6;\n",
              "      --disabled-fill-color: #AAA;\n",
              "      --disabled-bg-color: #DDD;\n",
              "  }\n",
              "\n",
              "  [theme=dark] .colab-df-quickchart {\n",
              "      --bg-color: #3B4455;\n",
              "      --fill-color: #D2E3FC;\n",
              "      --hover-bg-color: #434B5C;\n",
              "      --hover-fill-color: #FFFFFF;\n",
              "      --disabled-bg-color: #3B4455;\n",
              "      --disabled-fill-color: #666;\n",
              "  }\n",
              "\n",
              "  .colab-df-quickchart {\n",
              "    background-color: var(--bg-color);\n",
              "    border: none;\n",
              "    border-radius: 50%;\n",
              "    cursor: pointer;\n",
              "    display: none;\n",
              "    fill: var(--fill-color);\n",
              "    height: 32px;\n",
              "    padding: 0;\n",
              "    width: 32px;\n",
              "  }\n",
              "\n",
              "  .colab-df-quickchart:hover {\n",
              "    background-color: var(--hover-bg-color);\n",
              "    box-shadow: 0 1px 2px rgba(60, 64, 67, 0.3), 0 1px 3px 1px rgba(60, 64, 67, 0.15);\n",
              "    fill: var(--button-hover-fill-color);\n",
              "  }\n",
              "\n",
              "  .colab-df-quickchart-complete:disabled,\n",
              "  .colab-df-quickchart-complete:disabled:hover {\n",
              "    background-color: var(--disabled-bg-color);\n",
              "    fill: var(--disabled-fill-color);\n",
              "    box-shadow: none;\n",
              "  }\n",
              "\n",
              "  .colab-df-spinner {\n",
              "    border: 2px solid var(--fill-color);\n",
              "    border-color: transparent;\n",
              "    border-bottom-color: var(--fill-color);\n",
              "    animation:\n",
              "      spin 1s steps(1) infinite;\n",
              "  }\n",
              "\n",
              "  @keyframes spin {\n",
              "    0% {\n",
              "      border-color: transparent;\n",
              "      border-bottom-color: var(--fill-color);\n",
              "      border-left-color: var(--fill-color);\n",
              "    }\n",
              "    20% {\n",
              "      border-color: transparent;\n",
              "      border-left-color: var(--fill-color);\n",
              "      border-top-color: var(--fill-color);\n",
              "    }\n",
              "    30% {\n",
              "      border-color: transparent;\n",
              "      border-left-color: var(--fill-color);\n",
              "      border-top-color: var(--fill-color);\n",
              "      border-right-color: var(--fill-color);\n",
              "    }\n",
              "    40% {\n",
              "      border-color: transparent;\n",
              "      border-right-color: var(--fill-color);\n",
              "      border-top-color: var(--fill-color);\n",
              "    }\n",
              "    60% {\n",
              "      border-color: transparent;\n",
              "      border-right-color: var(--fill-color);\n",
              "    }\n",
              "    80% {\n",
              "      border-color: transparent;\n",
              "      border-right-color: var(--fill-color);\n",
              "      border-bottom-color: var(--fill-color);\n",
              "    }\n",
              "    90% {\n",
              "      border-color: transparent;\n",
              "      border-bottom-color: var(--fill-color);\n",
              "    }\n",
              "  }\n",
              "</style>\n",
              "\n",
              "  <script>\n",
              "    async function quickchart(key) {\n",
              "      const quickchartButtonEl =\n",
              "        document.querySelector('#' + key + ' button');\n",
              "      quickchartButtonEl.disabled = true;  // To prevent multiple clicks.\n",
              "      quickchartButtonEl.classList.add('colab-df-spinner');\n",
              "      try {\n",
              "        const charts = await google.colab.kernel.invokeFunction(\n",
              "            'suggestCharts', [key], {});\n",
              "      } catch (error) {\n",
              "        console.error('Error during call to suggestCharts:', error);\n",
              "      }\n",
              "      quickchartButtonEl.classList.remove('colab-df-spinner');\n",
              "      quickchartButtonEl.classList.add('colab-df-quickchart-complete');\n",
              "    }\n",
              "    (() => {\n",
              "      let quickchartButtonEl =\n",
              "        document.querySelector('#df-9f6735e9-0b0f-4111-8cb9-ea0536aef401 button');\n",
              "      quickchartButtonEl.style.display =\n",
              "        google.colab.kernel.accessAllowed ? 'block' : 'none';\n",
              "    })();\n",
              "  </script>\n",
              "</div>\n",
              "    </div>\n",
              "  </div>\n"
            ]
          },
          "metadata": {},
          "execution_count": 11
        }
      ]
    },
    {
      "cell_type": "code",
      "source": [
        "# Создать словарь: столбец-индекс\n",
        "def create_dict(s):\n",
        "  dict = {}\n",
        "  for _id, name in enumerate(s):\n",
        "    dict.update({name: _id})\n",
        "  return dict\n",
        "\n",
        "# Функция преобразования в one hot encoding\n",
        "def to_ohe(value, d):\n",
        "  arr = [0] * len(d)\n",
        "  arr[d[value]] = 1\n",
        "  return arr"
      ],
      "metadata": {
        "id": "n24jZ1b5GS6q"
      },
      "execution_count": 12,
      "outputs": []
    },
    {
      "cell_type": "code",
      "source": [
        "#список текствоых колонок\n",
        "cars.dtypes[cars.dtypes == 'object']"
      ],
      "metadata": {
        "colab": {
          "base_uri": "https://localhost:8080/"
        },
        "id": "xDk3ilLSGX5h",
        "outputId": "07cfdd2a-031d-470b-c70c-a33be43b9b04"
      },
      "execution_count": 13,
      "outputs": [
        {
          "output_type": "execute_result",
          "data": {
            "text/plain": [
              "mark     object\n",
              "model    object\n",
              "body     object\n",
              "kpp      object\n",
              "fuel     object\n",
              "dtype: object"
            ]
          },
          "metadata": {},
          "execution_count": 13
        }
      ]
    },
    {
      "cell_type": "code",
      "source": [
        "# Создаём словари по всем текстовым колонкам\n",
        "marks_dict = create_dict(set(cars['mark']))\n",
        "models_dict = create_dict(set(cars['model']))\n",
        "bodies_dict = create_dict(set(cars['body']))\n",
        "kpps_dict = create_dict(set(cars['kpp']))\n",
        "fuels_dict = create_dict(set(cars['fuel']))\n",
        "\n",
        "# Запоминаем цены\n",
        "prices = np.array(cars['price'], dtype=np.float)\n",
        "\n",
        "# Запоминаем числовые параметры и нормируем\n",
        "years = preprocessing.scale(cars['year'])\n",
        "mileages = preprocessing.scale(cars['mileage'])\n",
        "volumes = preprocessing.scale(cars['volume'])\n",
        "powers = preprocessing.scale(cars['power'])"
      ],
      "metadata": {
        "colab": {
          "base_uri": "https://localhost:8080/"
        },
        "id": "81MNMHEbGeFO",
        "outputId": "83e55c05-5953-44b2-adb6-d683409cfcc3"
      },
      "execution_count": 15,
      "outputs": [
        {
          "output_type": "stream",
          "name": "stderr",
          "text": [
            "<ipython-input-15-b7fa79175ce5>:9: DeprecationWarning: `np.float` is a deprecated alias for the builtin `float`. To silence this warning, use `float` by itself. Doing this will not modify any behavior and is safe. If you specifically wanted the numpy scalar type, use `np.float64` here.\n",
            "Deprecated in NumPy 1.20; for more details and guidance: https://numpy.org/devdocs/release/1.20.0-notes.html#deprecations\n",
            "  prices = np.array(cars['price'], dtype=np.float)\n"
          ]
        }
      ]
    },
    {
      "cell_type": "code",
      "source": [
        "print(fuels_dict)"
      ],
      "metadata": {
        "colab": {
          "base_uri": "https://localhost:8080/"
        },
        "id": "bd8OY5Q4GpWP",
        "outputId": "aa524d6f-37ff-4a83-ee0b-a3148d1bf8f0"
      },
      "execution_count": 16,
      "outputs": [
        {
          "output_type": "stream",
          "name": "stdout",
          "text": [
            "{'дизель': 0, 'гибрид': 1, 'бензин': 2, 'газ': 3, 'электро': 4}\n"
          ]
        }
      ]
    },
    {
      "cell_type": "code",
      "source": [
        "volumes.mean()"
      ],
      "metadata": {
        "colab": {
          "base_uri": "https://localhost:8080/"
        },
        "id": "ClsZC85wGsw-",
        "outputId": "5d818c19-8e7d-4395-faa6-984669b624cf"
      },
      "execution_count": 17,
      "outputs": [
        {
          "output_type": "execute_result",
          "data": {
            "text/plain": [
              "1.2879530757014324e-16"
            ]
          },
          "metadata": {},
          "execution_count": 17
        }
      ]
    },
    {
      "cell_type": "code",
      "source": [
        "volumes.std()"
      ],
      "metadata": {
        "colab": {
          "base_uri": "https://localhost:8080/"
        },
        "id": "_kBaDBQ-GuVN",
        "outputId": "70251302-d0ea-435d-a568-d797b5491ad0"
      },
      "execution_count": 18,
      "outputs": [
        {
          "output_type": "execute_result",
          "data": {
            "text/plain": [
              "1.0"
            ]
          },
          "metadata": {},
          "execution_count": 18
        }
      ]
    },
    {
      "cell_type": "code",
      "source": [
        "print(powers)"
      ],
      "metadata": {
        "colab": {
          "base_uri": "https://localhost:8080/"
        },
        "id": "mbXg7VdsGxfE",
        "outputId": "a446aa1c-5c79-43c0-8189-d16390275045"
      },
      "execution_count": 19,
      "outputs": [
        {
          "output_type": "stream",
          "name": "stdout",
          "text": [
            "[ 0.22905575 -0.95630346 -0.87163494 ...  0.22905575 -0.75309902\n",
            "  2.34576862]\n"
          ]
        }
      ]
    },
    {
      "cell_type": "code",
      "source": [
        "x = []\n",
        "y = []\n",
        "\n",
        "for _id, car in enumerate(np.array(cars)):\n",
        "  y.append(prices[_id])\n",
        "\n",
        "  # В x_train объединяем все параметры: категориальные параметры добавляем в виде ohe\n",
        "  x_tr = (\n",
        "      to_ohe(car[0], marks_dict) +\n",
        "      to_ohe(car[1], models_dict) +\n",
        "      to_ohe(car[5], bodies_dict) +\n",
        "      to_ohe(car[6], kpps_dict) +\n",
        "      to_ohe(car[7], fuels_dict) +\n",
        "      [years[_id]] +\n",
        "      [mileages[_id]] +\n",
        "      [volumes[_id]] +\n",
        "      [powers[_id]]\n",
        "  )\n",
        "\n",
        "  # Добавляем текущую строку в общий x_train\n",
        "  x.append(x_tr)\n",
        "\n",
        "x_train = np.array(x, dtype=float)\n",
        "y_train = np.array(y, dtype=float)"
      ],
      "metadata": {
        "id": "bEAoPIOUG3FT"
      },
      "execution_count": 20,
      "outputs": []
    },
    {
      "cell_type": "code",
      "source": [
        "x_train, x_test, y_train, y_test = train_test_split(x_train, y_train, train_size=0.8, random_state=42, shuffle=True)"
      ],
      "metadata": {
        "id": "qf2ctgjRHDm-"
      },
      "execution_count": 26,
      "outputs": []
    },
    {
      "cell_type": "code",
      "source": [
        "model = Sequential([\n",
        "    Dense(100, activation='relu'),\n",
        "    Dense(50, activation='relu'),\n",
        "    Dense(1, activation='linear')\n",
        "])"
      ],
      "metadata": {
        "id": "WAzsONH1HsD9"
      },
      "execution_count": 27,
      "outputs": []
    },
    {
      "cell_type": "code",
      "source": [
        "#training\n",
        "model.compile(optimizer='adam', loss='mae', metrics=[keras.metrics.R2Score()])\n",
        "history = model.fit(x_train, y_train, validation_split=0.2, batch_size=80, epochs=100)"
      ],
      "metadata": {
        "colab": {
          "base_uri": "https://localhost:8080/"
        },
        "id": "ZRFeFpGQHuOc",
        "outputId": "4154173f-d4a1-41d4-9ea9-41b14aea0367"
      },
      "execution_count": 30,
      "outputs": [
        {
          "output_type": "stream",
          "name": "stdout",
          "text": [
            "Epoch 1/100\n",
            "449/449 [==============================] - 6s 11ms/step - loss: 526673.8125 - r2_score: -0.6792 - val_loss: 509554.3125 - val_r2_score: -0.7893\n",
            "Epoch 2/100\n",
            "449/449 [==============================] - 5s 12ms/step - loss: 486230.2812 - r2_score: -0.5801 - val_loss: 433323.7500 - val_r2_score: -0.5557\n",
            "Epoch 3/100\n",
            "449/449 [==============================] - 5s 10ms/step - loss: 378592.8125 - r2_score: -0.2815 - val_loss: 303949.6875 - val_r2_score: -0.0984\n",
            "Epoch 4/100\n",
            "449/449 [==============================] - 4s 10ms/step - loss: 262108.6562 - r2_score: 0.0805 - val_loss: 216099.7188 - val_r2_score: 0.2522\n",
            "Epoch 5/100\n",
            "449/449 [==============================] - 5s 12ms/step - loss: 204291.4531 - r2_score: 0.2880 - val_loss: 181071.1094 - val_r2_score: 0.4062\n",
            "Epoch 6/100\n",
            "449/449 [==============================] - 4s 10ms/step - loss: 180333.6250 - r2_score: 0.3816 - val_loss: 166503.4219 - val_r2_score: 0.4787\n",
            "Epoch 7/100\n",
            "449/449 [==============================] - 6s 13ms/step - loss: 169401.6719 - r2_score: 0.4277 - val_loss: 158696.9688 - val_r2_score: 0.5136\n",
            "Epoch 8/100\n",
            "449/449 [==============================] - 6s 13ms/step - loss: 162388.0469 - r2_score: 0.4521 - val_loss: 152666.5469 - val_r2_score: 0.5352\n",
            "Epoch 9/100\n",
            "449/449 [==============================] - 4s 10ms/step - loss: 156153.2344 - r2_score: 0.4687 - val_loss: 146621.8750 - val_r2_score: 0.5521\n",
            "Epoch 10/100\n",
            "449/449 [==============================] - 4s 10ms/step - loss: 149836.4375 - r2_score: 0.4825 - val_loss: 140444.8594 - val_r2_score: 0.5682\n",
            "Epoch 11/100\n",
            "449/449 [==============================] - 6s 13ms/step - loss: 143689.8438 - r2_score: 0.4971 - val_loss: 134611.4531 - val_r2_score: 0.5843\n",
            "Epoch 12/100\n",
            "449/449 [==============================] - 4s 10ms/step - loss: 138223.5781 - r2_score: 0.5119 - val_loss: 129672.0312 - val_r2_score: 0.6002\n",
            "Epoch 13/100\n",
            "449/449 [==============================] - 4s 10ms/step - loss: 133566.5938 - r2_score: 0.5264 - val_loss: 125427.2344 - val_r2_score: 0.6139\n",
            "Epoch 14/100\n",
            "449/449 [==============================] - 6s 13ms/step - loss: 129541.9297 - r2_score: 0.5390 - val_loss: 121747.6094 - val_r2_score: 0.6283\n",
            "Epoch 15/100\n",
            "449/449 [==============================] - 4s 10ms/step - loss: 125947.0078 - r2_score: 0.5510 - val_loss: 118479.5781 - val_r2_score: 0.6431\n",
            "Epoch 16/100\n",
            "449/449 [==============================] - 4s 9ms/step - loss: 122717.0859 - r2_score: 0.5633 - val_loss: 115555.9844 - val_r2_score: 0.6544\n",
            "Epoch 17/100\n",
            "449/449 [==============================] - 6s 13ms/step - loss: 119808.6406 - r2_score: 0.5738 - val_loss: 112944.7422 - val_r2_score: 0.6651\n",
            "Epoch 18/100\n",
            "449/449 [==============================] - 4s 10ms/step - loss: 117124.7422 - r2_score: 0.5834 - val_loss: 110590.6641 - val_r2_score: 0.6752\n",
            "Epoch 19/100\n",
            "449/449 [==============================] - 4s 9ms/step - loss: 114653.8359 - r2_score: 0.5926 - val_loss: 108454.3359 - val_r2_score: 0.6848\n",
            "Epoch 20/100\n",
            "449/449 [==============================] - 6s 13ms/step - loss: 112407.0547 - r2_score: 0.6009 - val_loss: 106487.6719 - val_r2_score: 0.6932\n",
            "Epoch 21/100\n",
            "449/449 [==============================] - 7s 15ms/step - loss: 110314.8906 - r2_score: 0.6085 - val_loss: 104682.2109 - val_r2_score: 0.7019\n",
            "Epoch 22/100\n",
            "449/449 [==============================] - 9s 20ms/step - loss: 108365.2266 - r2_score: 0.6162 - val_loss: 103004.8047 - val_r2_score: 0.7072\n",
            "Epoch 23/100\n",
            "449/449 [==============================] - 4s 9ms/step - loss: 106542.0312 - r2_score: 0.6232 - val_loss: 101323.6953 - val_r2_score: 0.7168\n",
            "Epoch 24/100\n",
            "449/449 [==============================] - 4s 9ms/step - loss: 104780.8359 - r2_score: 0.6301 - val_loss: 99819.0781 - val_r2_score: 0.7240\n",
            "Epoch 25/100\n",
            "449/449 [==============================] - 6s 13ms/step - loss: 103135.8984 - r2_score: 0.6362 - val_loss: 98439.7422 - val_r2_score: 0.7327\n",
            "Epoch 26/100\n",
            "449/449 [==============================] - 5s 10ms/step - loss: 101654.7891 - r2_score: 0.6427 - val_loss: 97102.5312 - val_r2_score: 0.7376\n",
            "Epoch 27/100\n",
            "449/449 [==============================] - 4s 10ms/step - loss: 100259.3516 - r2_score: 0.6485 - val_loss: 95897.6016 - val_r2_score: 0.7414\n",
            "Epoch 28/100\n",
            "449/449 [==============================] - 6s 13ms/step - loss: 98948.2109 - r2_score: 0.6534 - val_loss: 94704.1094 - val_r2_score: 0.7480\n",
            "Epoch 29/100\n",
            "449/449 [==============================] - 4s 10ms/step - loss: 97702.6016 - r2_score: 0.6588 - val_loss: 93587.9219 - val_r2_score: 0.7542\n",
            "Epoch 30/100\n",
            "449/449 [==============================] - 4s 10ms/step - loss: 96491.1484 - r2_score: 0.6646 - val_loss: 92520.3047 - val_r2_score: 0.7581\n",
            "Epoch 31/100\n",
            "449/449 [==============================] - 6s 13ms/step - loss: 95338.0000 - r2_score: 0.6689 - val_loss: 91556.3047 - val_r2_score: 0.7634\n",
            "Epoch 32/100\n",
            "449/449 [==============================] - 4s 10ms/step - loss: 94223.6719 - r2_score: 0.6741 - val_loss: 90560.9609 - val_r2_score: 0.7688\n",
            "Epoch 33/100\n",
            "449/449 [==============================] - 4s 10ms/step - loss: 93150.7812 - r2_score: 0.6793 - val_loss: 89673.7422 - val_r2_score: 0.7724\n",
            "Epoch 34/100\n",
            "449/449 [==============================] - 5s 12ms/step - loss: 92132.4844 - r2_score: 0.6827 - val_loss: 88834.3672 - val_r2_score: 0.7774\n",
            "Epoch 35/100\n",
            "449/449 [==============================] - 4s 9ms/step - loss: 91156.3281 - r2_score: 0.6878 - val_loss: 88000.0312 - val_r2_score: 0.7816\n",
            "Epoch 36/100\n",
            "449/449 [==============================] - 4s 10ms/step - loss: 90251.7891 - r2_score: 0.6916 - val_loss: 87250.0547 - val_r2_score: 0.7864\n",
            "Epoch 37/100\n",
            "449/449 [==============================] - 6s 12ms/step - loss: 89381.8828 - r2_score: 0.6956 - val_loss: 86588.6797 - val_r2_score: 0.7895\n",
            "Epoch 38/100\n",
            "449/449 [==============================] - 4s 10ms/step - loss: 88525.5312 - r2_score: 0.6995 - val_loss: 85921.7031 - val_r2_score: 0.7932\n",
            "Epoch 39/100\n",
            "449/449 [==============================] - 4s 10ms/step - loss: 87748.4922 - r2_score: 0.7032 - val_loss: 85243.0156 - val_r2_score: 0.7968\n",
            "Epoch 40/100\n",
            "449/449 [==============================] - 6s 13ms/step - loss: 86987.5000 - r2_score: 0.7066 - val_loss: 84659.4453 - val_r2_score: 0.8006\n",
            "Epoch 41/100\n",
            "449/449 [==============================] - 4s 10ms/step - loss: 86260.7344 - r2_score: 0.7102 - val_loss: 84080.8516 - val_r2_score: 0.8044\n",
            "Epoch 42/100\n",
            "449/449 [==============================] - 5s 12ms/step - loss: 85568.9453 - r2_score: 0.7135 - val_loss: 83527.3906 - val_r2_score: 0.8079\n",
            "Epoch 43/100\n",
            "449/449 [==============================] - 6s 13ms/step - loss: 84900.1562 - r2_score: 0.7171 - val_loss: 82985.1484 - val_r2_score: 0.8101\n",
            "Epoch 44/100\n",
            "449/449 [==============================] - 4s 10ms/step - loss: 84269.4844 - r2_score: 0.7198 - val_loss: 82474.4375 - val_r2_score: 0.8136\n",
            "Epoch 45/100\n",
            "449/449 [==============================] - 5s 12ms/step - loss: 83657.1250 - r2_score: 0.7230 - val_loss: 81942.6016 - val_r2_score: 0.8168\n",
            "Epoch 46/100\n",
            "449/449 [==============================] - 5s 11ms/step - loss: 83046.1328 - r2_score: 0.7262 - val_loss: 81463.9844 - val_r2_score: 0.8190\n",
            "Epoch 47/100\n",
            "449/449 [==============================] - 4s 9ms/step - loss: 82474.7500 - r2_score: 0.7286 - val_loss: 80965.5391 - val_r2_score: 0.8220\n",
            "Epoch 48/100\n",
            "449/449 [==============================] - 5s 12ms/step - loss: 81899.6406 - r2_score: 0.7316 - val_loss: 80481.6172 - val_r2_score: 0.8247\n",
            "Epoch 49/100\n",
            "449/449 [==============================] - 5s 11ms/step - loss: 81334.0859 - r2_score: 0.7340 - val_loss: 80055.1797 - val_r2_score: 0.8283\n",
            "Epoch 50/100\n",
            "449/449 [==============================] - 4s 10ms/step - loss: 80786.2422 - r2_score: 0.7372 - val_loss: 79619.8438 - val_r2_score: 0.8299\n",
            "Epoch 51/100\n",
            "449/449 [==============================] - 5s 12ms/step - loss: 80260.3281 - r2_score: 0.7393 - val_loss: 79217.0625 - val_r2_score: 0.8325\n",
            "Epoch 52/100\n",
            "449/449 [==============================] - 5s 11ms/step - loss: 79747.7969 - r2_score: 0.7417 - val_loss: 78845.1406 - val_r2_score: 0.8357\n",
            "Epoch 53/100\n",
            "449/449 [==============================] - 4s 9ms/step - loss: 79246.6719 - r2_score: 0.7447 - val_loss: 78463.1484 - val_r2_score: 0.8374\n",
            "Epoch 54/100\n",
            "449/449 [==============================] - 5s 12ms/step - loss: 78763.8906 - r2_score: 0.7471 - val_loss: 78072.5469 - val_r2_score: 0.8396\n",
            "Epoch 55/100\n",
            "449/449 [==============================] - 5s 11ms/step - loss: 78287.0781 - r2_score: 0.7491 - val_loss: 77713.1016 - val_r2_score: 0.8421\n",
            "Epoch 56/100\n",
            "449/449 [==============================] - 4s 10ms/step - loss: 77832.0078 - r2_score: 0.7516 - val_loss: 77396.8281 - val_r2_score: 0.8436\n",
            "Epoch 57/100\n",
            "449/449 [==============================] - 5s 12ms/step - loss: 77386.3359 - r2_score: 0.7536 - val_loss: 77065.6094 - val_r2_score: 0.8460\n",
            "Epoch 58/100\n",
            "449/449 [==============================] - 4s 10ms/step - loss: 76966.5234 - r2_score: 0.7556 - val_loss: 76756.4219 - val_r2_score: 0.8476\n",
            "Epoch 59/100\n",
            "449/449 [==============================] - 5s 10ms/step - loss: 76553.9062 - r2_score: 0.7574 - val_loss: 76459.9922 - val_r2_score: 0.8490\n",
            "Epoch 60/100\n",
            "449/449 [==============================] - 6s 12ms/step - loss: 76149.8750 - r2_score: 0.7594 - val_loss: 76199.3203 - val_r2_score: 0.8507\n",
            "Epoch 61/100\n",
            "449/449 [==============================] - 4s 10ms/step - loss: 75760.9219 - r2_score: 0.7612 - val_loss: 75942.1328 - val_r2_score: 0.8529\n",
            "Epoch 62/100\n",
            "449/449 [==============================] - 4s 10ms/step - loss: 75404.9219 - r2_score: 0.7632 - val_loss: 75650.9609 - val_r2_score: 0.8544\n",
            "Epoch 63/100\n",
            "449/449 [==============================] - 5s 12ms/step - loss: 75064.8203 - r2_score: 0.7648 - val_loss: 75443.1719 - val_r2_score: 0.8553\n",
            "Epoch 64/100\n",
            "449/449 [==============================] - 4s 10ms/step - loss: 74711.5000 - r2_score: 0.7665 - val_loss: 75126.1641 - val_r2_score: 0.8574\n",
            "Epoch 65/100\n",
            "449/449 [==============================] - 5s 10ms/step - loss: 74370.8203 - r2_score: 0.7682 - val_loss: 74878.1641 - val_r2_score: 0.8589\n",
            "Epoch 66/100\n",
            "449/449 [==============================] - 5s 12ms/step - loss: 74037.0078 - r2_score: 0.7700 - val_loss: 74647.2266 - val_r2_score: 0.8597\n",
            "Epoch 67/100\n",
            "449/449 [==============================] - 5s 10ms/step - loss: 73713.7344 - r2_score: 0.7714 - val_loss: 74405.0703 - val_r2_score: 0.8615\n",
            "Epoch 68/100\n",
            "449/449 [==============================] - 4s 10ms/step - loss: 73388.7812 - r2_score: 0.7733 - val_loss: 74184.8594 - val_r2_score: 0.8624\n",
            "Epoch 69/100\n",
            "449/449 [==============================] - 5s 12ms/step - loss: 73076.7734 - r2_score: 0.7746 - val_loss: 73961.0625 - val_r2_score: 0.8641\n",
            "Epoch 70/100\n",
            "449/449 [==============================] - 5s 10ms/step - loss: 72786.3516 - r2_score: 0.7763 - val_loss: 73765.6484 - val_r2_score: 0.8650\n",
            "Epoch 71/100\n",
            "449/449 [==============================] - 4s 10ms/step - loss: 72493.0625 - r2_score: 0.7775 - val_loss: 73612.1250 - val_r2_score: 0.8664\n",
            "Epoch 72/100\n",
            "449/449 [==============================] - 6s 12ms/step - loss: 72214.5000 - r2_score: 0.7791 - val_loss: 73398.8984 - val_r2_score: 0.8671\n",
            "Epoch 73/100\n",
            "449/449 [==============================] - 5s 10ms/step - loss: 71949.3438 - r2_score: 0.7807 - val_loss: 73220.9375 - val_r2_score: 0.8686\n",
            "Epoch 74/100\n",
            "449/449 [==============================] - 4s 10ms/step - loss: 71683.0859 - r2_score: 0.7815 - val_loss: 73074.0078 - val_r2_score: 0.8698\n",
            "Epoch 75/100\n",
            "449/449 [==============================] - 6s 13ms/step - loss: 71434.8203 - r2_score: 0.7830 - val_loss: 72899.3594 - val_r2_score: 0.8705\n",
            "Epoch 76/100\n",
            "449/449 [==============================] - 5s 11ms/step - loss: 71194.3906 - r2_score: 0.7843 - val_loss: 72782.0781 - val_r2_score: 0.8723\n",
            "Epoch 77/100\n",
            "449/449 [==============================] - 6s 12ms/step - loss: 70959.5625 - r2_score: 0.7856 - val_loss: 72605.8047 - val_r2_score: 0.8727\n",
            "Epoch 78/100\n",
            "449/449 [==============================] - 6s 13ms/step - loss: 70725.2500 - r2_score: 0.7866 - val_loss: 72519.8984 - val_r2_score: 0.8739\n",
            "Epoch 79/100\n",
            "449/449 [==============================] - 4s 10ms/step - loss: 70512.6562 - r2_score: 0.7881 - val_loss: 72330.3750 - val_r2_score: 0.8743\n",
            "Epoch 80/100\n",
            "449/449 [==============================] - 4s 10ms/step - loss: 70279.4453 - r2_score: 0.7888 - val_loss: 72246.1953 - val_r2_score: 0.8757\n",
            "Epoch 81/100\n",
            "449/449 [==============================] - 5s 12ms/step - loss: 70075.9062 - r2_score: 0.7901 - val_loss: 72122.0234 - val_r2_score: 0.8765\n",
            "Epoch 82/100\n",
            "449/449 [==============================] - 5s 10ms/step - loss: 69871.5859 - r2_score: 0.7911 - val_loss: 71999.2891 - val_r2_score: 0.8768\n",
            "Epoch 83/100\n",
            "449/449 [==============================] - 5s 10ms/step - loss: 69668.8438 - r2_score: 0.7922 - val_loss: 71884.4453 - val_r2_score: 0.8777\n",
            "Epoch 84/100\n",
            "449/449 [==============================] - 6s 13ms/step - loss: 69464.7344 - r2_score: 0.7930 - val_loss: 71801.9766 - val_r2_score: 0.8785\n",
            "Epoch 85/100\n",
            "449/449 [==============================] - 5s 10ms/step - loss: 69282.7969 - r2_score: 0.7942 - val_loss: 71691.3359 - val_r2_score: 0.8788\n",
            "Epoch 86/100\n",
            "449/449 [==============================] - 5s 11ms/step - loss: 69089.0000 - r2_score: 0.7951 - val_loss: 71575.6406 - val_r2_score: 0.8796\n",
            "Epoch 87/100\n",
            "449/449 [==============================] - 5s 12ms/step - loss: 68894.3828 - r2_score: 0.7959 - val_loss: 71487.2891 - val_r2_score: 0.8801\n",
            "Epoch 88/100\n",
            "449/449 [==============================] - 4s 10ms/step - loss: 68709.5703 - r2_score: 0.7970 - val_loss: 71411.2109 - val_r2_score: 0.8808\n",
            "Epoch 89/100\n",
            "449/449 [==============================] - 4s 10ms/step - loss: 68538.8906 - r2_score: 0.7977 - val_loss: 71365.0156 - val_r2_score: 0.8811\n",
            "Epoch 90/100\n",
            "449/449 [==============================] - 6s 13ms/step - loss: 68367.2266 - r2_score: 0.7985 - val_loss: 71240.2031 - val_r2_score: 0.8819\n",
            "Epoch 91/100\n",
            "449/449 [==============================] - 5s 10ms/step - loss: 68195.2031 - r2_score: 0.7996 - val_loss: 71160.8203 - val_r2_score: 0.8824\n",
            "Epoch 92/100\n",
            "449/449 [==============================] - 5s 11ms/step - loss: 68018.8438 - r2_score: 0.8004 - val_loss: 71084.5234 - val_r2_score: 0.8828\n",
            "Epoch 93/100\n",
            "449/449 [==============================] - 5s 12ms/step - loss: 67872.8984 - r2_score: 0.8012 - val_loss: 71003.0625 - val_r2_score: 0.8831\n",
            "Epoch 94/100\n",
            "449/449 [==============================] - 4s 9ms/step - loss: 67719.3281 - r2_score: 0.8018 - val_loss: 70943.3359 - val_r2_score: 0.8839\n",
            "Epoch 95/100\n",
            "449/449 [==============================] - 5s 12ms/step - loss: 67559.5781 - r2_score: 0.8025 - val_loss: 70870.7734 - val_r2_score: 0.8843\n",
            "Epoch 96/100\n",
            "449/449 [==============================] - 5s 11ms/step - loss: 67403.5391 - r2_score: 0.8036 - val_loss: 70788.5938 - val_r2_score: 0.8844\n",
            "Epoch 97/100\n",
            "449/449 [==============================] - 4s 9ms/step - loss: 67271.7266 - r2_score: 0.8041 - val_loss: 70741.9141 - val_r2_score: 0.8849\n",
            "Epoch 98/100\n",
            "449/449 [==============================] - 5s 12ms/step - loss: 67109.1562 - r2_score: 0.8049 - val_loss: 70692.5859 - val_r2_score: 0.8863\n",
            "Epoch 99/100\n",
            "449/449 [==============================] - 5s 11ms/step - loss: 66970.2656 - r2_score: 0.8058 - val_loss: 70616.6406 - val_r2_score: 0.8864\n",
            "Epoch 100/100\n",
            "449/449 [==============================] - 4s 10ms/step - loss: 66836.1719 - r2_score: 0.8065 - val_loss: 70539.2188 - val_r2_score: 0.8869\n"
          ]
        }
      ]
    },
    {
      "cell_type": "code",
      "source": [
        "#predicting\n",
        "predict = model.predict(x_test)"
      ],
      "metadata": {
        "colab": {
          "base_uri": "https://localhost:8080/"
        },
        "id": "nnD4pnN0ID1s",
        "outputId": "b4dafa9e-de10-44a0-a05e-8473d13c041f"
      },
      "execution_count": 31,
      "outputs": [
        {
          "output_type": "stream",
          "name": "stdout",
          "text": [
            "351/351 [==============================] - 1s 3ms/step\n"
          ]
        }
      ]
    },
    {
      "cell_type": "code",
      "source": [
        "plt.figure(figsize=(15, 5))\n",
        "plt.plot(history.history['r2_score'], label='val_r2_score', color='green')\n",
        "plt.title('Обучение модели')\n",
        "plt.legend(['r2_score'])\n",
        "plt.show()"
      ],
      "metadata": {
        "colab": {
          "base_uri": "https://localhost:8080/",
          "height": 468
        },
        "id": "L7s06A_MIEq1",
        "outputId": "a1bb91c5-a108-44c2-93de-eacb53d10fa6"
      },
      "execution_count": 33,
      "outputs": [
        {
          "output_type": "display_data",
          "data": {
            "text/plain": [
              "<Figure size 1500x500 with 1 Axes>"
            ],
            "image/png": "[encoded data removed]"
          },
          "metadata": {}
        }
      ]
    },
    {
      "cell_type": "code",
      "source": [
        "plt.figure(figsize=(15, 10))\n",
        "plt.plot(history.history['loss'], label='Ошибка на обучающем наборе', color='green')\n",
        "plt.plot(history.history['val_loss'], label='Ошибка на проверочном наборе', color='red')\n",
        "plt.xlabel('Эпоха')\n",
        "plt.ylabel('Ошибка')\n",
        "plt.legend()\n",
        "plt.show()"
      ],
      "metadata": {
        "colab": {
          "base_uri": "https://localhost:8080/",
          "height": 850
        },
        "id": "CNajqQ64KHIg",
        "outputId": "462efff9-9e17-4f45-ca47-75bb96b3347a"
      },
      "execution_count": 39,
      "outputs": [
        {
          "output_type": "display_data",
          "data": {
            "text/plain": [
              "<Figure size 1500x1000 with 1 Axes>"
            ],
            "image/png": "[encoded data removed]"
          },
          "metadata": {}
        }
      ]
    }
  ]
}